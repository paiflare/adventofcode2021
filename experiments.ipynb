{
 "cells": [
  {
   "cell_type": "markdown",
   "metadata": {},
   "source": [
    "### Day 1"
   ]
  },
  {
   "cell_type": "markdown",
   "metadata": {},
   "source": [
    "task 1"
   ]
  },
  {
   "cell_type": "code",
   "execution_count": 44,
   "metadata": {},
   "outputs": [
    {
     "data": {
      "text/plain": [
       "1387"
      ]
     },
     "execution_count": 44,
     "metadata": {},
     "output_type": "execute_result"
    }
   ],
   "source": [
    "with open('andrew.txt', 'r') as file:\n",
    "    line_prev = file.readline()\n",
    "    increase = []\n",
    "    for line in file.readlines():\n",
    "        if int(line) > int(line_prev):\n",
    "            increase.append(1)\n",
    "        else:\n",
    "            increase.append(0)\n",
    "        line_prev = line\n",
    "\n",
    "sum(increase)"
   ]
  },
  {
   "cell_type": "markdown",
   "metadata": {},
   "source": [
    "task 2"
   ]
  },
  {
   "cell_type": "code",
   "execution_count": 45,
   "metadata": {},
   "outputs": [
    {
     "data": {
      "text/plain": [
       "1362"
      ]
     },
     "execution_count": 45,
     "metadata": {},
     "output_type": "execute_result"
    }
   ],
   "source": [
    "import numpy as np\n",
    "\n",
    "with open('andrew.txt', 'r') as file:\n",
    "    lines = list(map(int, file.readlines()))\n",
    "    measurements = np.array(lines)\n",
    "\n",
    "w_sum = np.convolve(measurements, np.ones(3,dtype=int), 'valid')\n",
    "\n",
    "increase = []\n",
    "i_prev = w_sum[0]\n",
    "for i in w_sum[1:]:\n",
    "    if i > i_prev:\n",
    "        increase.append(1)\n",
    "    else:\n",
    "        increase.append(0)\n",
    "    i_prev = i\n",
    "    \n",
    "sum(increase)"
   ]
  },
  {
   "cell_type": "markdown",
   "metadata": {},
   "source": [
    "### Day 2"
   ]
  },
  {
   "cell_type": "markdown",
   "metadata": {},
   "source": [
    "task 1"
   ]
  },
  {
   "cell_type": "code",
   "execution_count": 47,
   "metadata": {},
   "outputs": [
    {
     "name": "stdout",
     "output_type": "stream",
     "text": [
      "1840243\n"
     ]
    }
   ],
   "source": [
    "horizontal_pos = 0\n",
    "depth = 0\n",
    "\n",
    "with open('andrew.txt', 'r') as file:\n",
    "    for line in file.readlines():\n",
    "        command, value = line.split()\n",
    "        value = int(value)\n",
    "        \n",
    "        if command == 'forward':\n",
    "            horizontal_pos += value\n",
    "        elif command == 'down':\n",
    "            depth -= value\n",
    "        elif command == 'up':\n",
    "            depth += value\n",
    "\n",
    "print(horizontal_pos * (-depth))"
   ]
  },
  {
   "cell_type": "markdown",
   "metadata": {},
   "source": [
    "task 2"
   ]
  },
  {
   "cell_type": "code",
   "execution_count": 48,
   "metadata": {},
   "outputs": [
    {
     "name": "stdout",
     "output_type": "stream",
     "text": [
      "1727785422\n"
     ]
    }
   ],
   "source": [
    "horizontal_pos = 0\n",
    "depth = 0\n",
    "aim = 0\n",
    "\n",
    "with open('andrew.txt', 'r') as file:\n",
    "    for line in file.readlines():\n",
    "        command, value = line.split()\n",
    "        value = int(value)\n",
    "        \n",
    "        if command == 'forward':\n",
    "            horizontal_pos += value\n",
    "            depth += value*aim\n",
    "        elif command == 'down':\n",
    "            aim -= value\n",
    "        elif command == 'up':\n",
    "            aim += value\n",
    "\n",
    "print(horizontal_pos * (-depth))"
   ]
  },
  {
   "cell_type": "markdown",
   "metadata": {},
   "source": [
    "### Day 4"
   ]
  },
  {
   "cell_type": "markdown",
   "metadata": {},
   "source": [
    "task 1"
   ]
  },
  {
   "cell_type": "code",
   "execution_count": 35,
   "metadata": {},
   "outputs": [],
   "source": [
    "import numpy as np\n",
    "import numpy.ma as ma"
   ]
  },
  {
   "cell_type": "code",
   "execution_count": 196,
   "metadata": {},
   "outputs": [],
   "source": [
    "boards = dict()\n",
    "\n",
    "with open('day_4_input.txt', 'r') as file:\n",
    "    numbers = list(map(int, file.readline().split(',')))\n",
    "    \n",
    "    j = 0\n",
    "    while True:\n",
    "        rows = []\n",
    "        empty_row = file.readline()\n",
    "        for i in range(5):\n",
    "            row = list(map(int, file.readline().split()))\n",
    "            rows.append(row)\n",
    "        \n",
    "        if rows[0] == []:\n",
    "            break\n",
    "            \n",
    "        boards[j] = ma.array(rows)\n",
    "        j += 1"
   ]
  },
  {
   "cell_type": "code",
   "execution_count": 149,
   "metadata": {},
   "outputs": [],
   "source": [
    "def board_is_win(board):\n",
    "    for i, row in enumerate(board):\n",
    "        if row.mask.all():\n",
    "            return True, i, 'row'\n",
    "    \n",
    "    for j, column in enumerate(board.T):\n",
    "        if column.mask.all():\n",
    "            return True, j, 'column'\n",
    "    \n",
    "    return False, None, None"
   ]
  },
  {
   "cell_type": "code",
   "execution_count": 150,
   "metadata": {},
   "outputs": [
    {
     "name": "stdout",
     "output_type": "stream",
     "text": [
      "10680\n"
     ]
    }
   ],
   "source": [
    "for number in numbers:\n",
    "    for board in boards.values():\n",
    "        board.mask = board.mask | (board.data == number)\n",
    "        \n",
    "        is_win, ind, type_ = board_is_win(board)\n",
    "        \n",
    "        if is_win:\n",
    "            if type_ == 'row':\n",
    "                line = board[ind, :]\n",
    "            elif type_ == 'column':\n",
    "                line = board[:, ind]\n",
    "                \n",
    "            score = board.sum() * number\n",
    "            \n",
    "            print(score)\n",
    "            break\n",
    "    if is_win:\n",
    "        break"
   ]
  },
  {
   "cell_type": "markdown",
   "metadata": {},
   "source": [
    "task 2"
   ]
  },
  {
   "cell_type": "code",
   "execution_count": 197,
   "metadata": {},
   "outputs": [
    {
     "name": "stdout",
     "output_type": "stream",
     "text": [
      "31892\n"
     ]
    }
   ],
   "source": [
    "boards_inds = set(range(len(boards)))\n",
    "win_boards_inds = set()\n",
    "\n",
    "\n",
    "for j, number in enumerate(numbers):\n",
    "    if len(win_boards_inds) != len(boards_inds)-1: \n",
    "        for i, board in boards.items():\n",
    "            board.mask = board.mask | (board.data == number)\n",
    "\n",
    "            is_win, ind, type_ = board_is_win(board)\n",
    "\n",
    "            if is_win:\n",
    "                win_boards_inds.add(i)\n",
    "            \n",
    "    else: \n",
    "        last_ind = (boards_inds - win_boards_inds).pop()\n",
    "        last_board = boards[last_ind]\n",
    "        break\n",
    "\n",
    "        \n",
    "for number in numbers[j:]:\n",
    "    last_board.mask = last_board.mask | (last_board.data == number)\n",
    "\n",
    "    is_win, ind, type_ = board_is_win(last_board)\n",
    "        \n",
    "    if is_win:\n",
    "        score = last_board.sum() * number\n",
    "        print(score)\n",
    "        break\n"
   ]
  },
  {
   "cell_type": "markdown",
   "metadata": {},
   "source": [
    "### Day 5"
   ]
  },
  {
   "cell_type": "markdown",
   "metadata": {},
   "source": [
    "task 1"
   ]
  },
  {
   "cell_type": "code",
   "execution_count": 205,
   "metadata": {},
   "outputs": [],
   "source": [
    "opaque = dict()\n",
    "\n",
    "with open('day_5_input.txt', 'r') as file:\n",
    "    for line in file.readlines():\n",
    "        point1, point2 = line.split(' -> ')\n",
    "        x1, y1 = map(int, point1.split(','))\n",
    "        x2, y2 = map(int, point2.split(','))\n",
    "        \n",
    "        if x1 == x2:\n",
    "            for y in range(min(y1,y2), max(y1,y2)+1):\n",
    "                opaque[(x1, y)] = opaque.get((x1,y), 0) + 1\n",
    "        \n",
    "        if y1 == y2:\n",
    "            for x in range(min(x1,x2), max(x1,x2)+1):\n",
    "                opaque[(x, y1)] = opaque.get((x,y1), 0) + 1\n",
    "\n",
    "danger_opaque = {key: val for (key, val) in opaque.items() if val > 1}\n",
    "len(danger_opaque)"
   ]
  },
  {
   "cell_type": "markdown",
   "metadata": {},
   "source": [
    "task 2"
   ]
  },
  {
   "cell_type": "code",
   "execution_count": 215,
   "metadata": {},
   "outputs": [
    {
     "data": {
      "text/plain": [
       "17741"
      ]
     },
     "execution_count": 215,
     "metadata": {},
     "output_type": "execute_result"
    }
   ],
   "source": [
    "opaque = dict()\n",
    "\n",
    "with open('day_5_input.txt', 'r') as file:\n",
    "    for line in file.readlines():\n",
    "        point1, point2 = line.split(' -> ')\n",
    "        x1, y1 = map(int, point1.split(','))\n",
    "        x2, y2 = map(int, point2.split(','))\n",
    "        \n",
    "        if x1 == x2:\n",
    "            y1, y2 = min(y1,y2), max(y1,y2)\n",
    "            for y in range(y1, y2+1):\n",
    "                opaque[(x1, y)] = opaque.get((x1,y), 0) + 1\n",
    "        \n",
    "        if y1 == y2:\n",
    "            x1, x2 = min(x1,x2), max(x1,x2)\n",
    "            for x in range(x1, x2+1):\n",
    "                opaque[(x, y1)] = opaque.get((x,y1), 0) + 1\n",
    "                \n",
    "        if x1 != x2 and y1 != y2:\n",
    "            l = max(x1,x2) - min(x1,x2)\n",
    "            \n",
    "            if x1 < x2 and y1 < y2:\n",
    "                for i in range(l+1):\n",
    "                    opaque[(x1+i, y1+i)] = opaque.get((x1+i, y1+i), 0) + 1\n",
    "            if x1 > x2 and y1 > y2:\n",
    "                for i in range(l+1):\n",
    "                    opaque[(x1-i, y1-i)] = opaque.get((x1-i, y1-i), 0) + 1\n",
    "            if x1 < x2 and y1 > y2:\n",
    "                for i in range(l+1):\n",
    "                    opaque[(x1+i, y1-i)] = opaque.get((x1+i, y1-i), 0) + 1\n",
    "            if x1 > x2 and y1 < y2:\n",
    "                for i in range(l+1):\n",
    "                    opaque[(x1-i, y1+i)] = opaque.get((x1-i, y1+i), 0) + 1\n",
    "\n",
    "danger_opaque = {key: val for (key, val) in opaque.items() if val > 1}\n",
    "len(danger_opaque)"
   ]
  },
  {
   "cell_type": "markdown",
   "metadata": {},
   "source": [
    "### Day 6"
   ]
  },
  {
   "cell_type": "markdown",
   "metadata": {},
   "source": [
    "task 1"
   ]
  },
  {
   "cell_type": "code",
   "execution_count": 37,
   "metadata": {},
   "outputs": [],
   "source": [
    "import numpy as np\n",
    "from collections import Counter"
   ]
  },
  {
   "cell_type": "code",
   "execution_count": 41,
   "metadata": {},
   "outputs": [],
   "source": [
    "with open('day_6_input.txt', 'r') as file:\n",
    "    fishes = np.array(list(map(int, file.readline().split(','))), dtype=np.int32)\n",
    "    \n",
    "fish_counter = Counter(fishes)"
   ]
  },
  {
   "cell_type": "code",
   "execution_count": 39,
   "metadata": {},
   "outputs": [],
   "source": [
    "def foo(fishes, day=1):\n",
    "    for _ in range(day):\n",
    "        fishes -= 1\n",
    "        new_fishes = 8*np.ones(sum(fishes < 0), dtype=np.int32)\n",
    "        fishes[fishes < 0] = 6\n",
    "        fishes = np.hstack([fishes, new_fishes])\n",
    "    \n",
    "    return fishes"
   ]
  },
  {
   "cell_type": "code",
   "execution_count": 40,
   "metadata": {},
   "outputs": [
    {
     "data": {
      "text/plain": [
       "389726"
      ]
     },
     "execution_count": 40,
     "metadata": {},
     "output_type": "execute_result"
    }
   ],
   "source": [
    "len(foo(fishes, day=80))"
   ]
  },
  {
   "cell_type": "markdown",
   "metadata": {},
   "source": [
    "task 2"
   ]
  },
  {
   "cell_type": "code",
   "execution_count": 42,
   "metadata": {},
   "outputs": [],
   "source": [
    "def update(fish_counter):\n",
    "    new_counter = {}\n",
    "    \n",
    "    for key,value in fish_counter.items():\n",
    "        if key == 0:\n",
    "            new_counter[6] = new_counter.get(6, 0) + value\n",
    "            new_counter[8] = new_counter.get(8, 0) + value\n",
    "        else:\n",
    "            new_counter[key-1] = new_counter.get(key-1, 0) + value\n",
    "    \n",
    "    return Counter(new_counter)"
   ]
  },
  {
   "cell_type": "code",
   "execution_count": 43,
   "metadata": {},
   "outputs": [],
   "source": [
    "def bar(fishes, day=50):\n",
    "    fish_counter = Counter(fishes)\n",
    "    \n",
    "    for _ in range(day):\n",
    "        fish_counter = update(fish_counter)\n",
    "    \n",
    "    return sum(fish_counter.values())"
   ]
  },
  {
   "cell_type": "code",
   "execution_count": 46,
   "metadata": {},
   "outputs": [
    {
     "data": {
      "text/plain": [
       "1743335992042"
      ]
     },
     "execution_count": 46,
     "metadata": {},
     "output_type": "execute_result"
    }
   ],
   "source": [
    "bar(fishes, day=256)"
   ]
  },
  {
   "cell_type": "markdown",
   "metadata": {},
   "source": [
    "### Day 7"
   ]
  },
  {
   "cell_type": "markdown",
   "metadata": {},
   "source": [
    "task 1"
   ]
  },
  {
   "cell_type": "code",
   "execution_count": 50,
   "metadata": {},
   "outputs": [],
   "source": [
    "with open('day_7_input.txt', 'r') as file:\n",
    "    positions = np.array(list(map(int, file.readline().split(','))), dtype=np.int32)"
   ]
  },
  {
   "cell_type": "code",
   "execution_count": 54,
   "metadata": {},
   "outputs": [],
   "source": [
    "def total_fuel(positions, target_position):\n",
    "    return sum(abs(positions - target_position))"
   ]
  },
  {
   "cell_type": "code",
   "execution_count": 61,
   "metadata": {},
   "outputs": [
    {
     "data": {
      "text/plain": [
       "356179.0"
      ]
     },
     "execution_count": 61,
     "metadata": {},
     "output_type": "execute_result"
    }
   ],
   "source": [
    "tar_pos = np.median(positions)\n",
    "total_fuel(positions, tar_pos)"
   ]
  },
  {
   "cell_type": "markdown",
   "metadata": {},
   "source": [
    "task 2"
   ]
  },
  {
   "cell_type": "code",
   "execution_count": 75,
   "metadata": {},
   "outputs": [],
   "source": [
    "def total_fuel_2(positions, target_position):\n",
    "    total_sum = 0\n",
    "    for pos in positions:\n",
    "        n = abs(pos - target_position)\n",
    "        S = (1 + n)*n / 2\n",
    "        total_sum += S\n",
    "        \n",
    "    return total_sum"
   ]
  },
  {
   "cell_type": "code",
   "execution_count": 77,
   "metadata": {},
   "outputs": [
    {
     "name": "stdout",
     "output_type": "stream",
     "text": [
      "99788435.0\n",
      "1903\n"
     ]
    }
   ],
   "source": [
    "min_fuel = float('inf')\n",
    "\n",
    "for tar_pos in range(min(positions), max(positions)+1):\n",
    "    fuel = total_fuel_2(positions, tar_pos)\n",
    "    if fuel < min_fuel:\n",
    "        min_fuel = fuel\n",
    "        pos = tar_pos\n",
    "\n",
    "print(min_fuel)\n",
    "print(tar_pos)"
   ]
  },
  {
   "cell_type": "markdown",
   "metadata": {},
   "source": [
    "### Day 8"
   ]
  },
  {
   "cell_type": "markdown",
   "metadata": {},
   "source": [
    "task 1"
   ]
  },
  {
   "cell_type": "code",
   "execution_count": 89,
   "metadata": {},
   "outputs": [
    {
     "data": {
      "text/plain": [
       "352"
      ]
     },
     "execution_count": 89,
     "metadata": {},
     "output_type": "execute_result"
    }
   ],
   "source": [
    "count_1478 = 0\n",
    "\n",
    "with open('day_8_input.txt', 'r') as file:\n",
    "    for line in file.readlines():\n",
    "        first, second = line.split(' | ')\n",
    "        patterns = first.split()\n",
    "        outputs = second.split()\n",
    "        \n",
    "        for out in outputs:\n",
    "            if len(out)==2 or len(out)==3 or len(out)==4 or len(out)==7:\n",
    "                count_1478 += 1\n",
    "                \n",
    "count_1478"
   ]
  },
  {
   "cell_type": "markdown",
   "metadata": {},
   "source": [
    "task 2"
   ]
  },
  {
   "cell_type": "code",
   "execution_count": 118,
   "metadata": {},
   "outputs": [],
   "source": [
    "def find(patterns):\n",
    "    eight, four, seven, one = None, None, None, None\n",
    "    known_digits = dict()\n",
    "    \n",
    "    for pat in patterns:\n",
    "        if len(pat)==7:\n",
    "            eight = pat\n",
    "            known_digits[''.join(sorted(eight))] = 8\n",
    "        if len(pat)==4:\n",
    "            four = pat\n",
    "            known_digits[''.join(sorted(four))] = 4\n",
    "        if len(pat)==3:\n",
    "            seven = pat\n",
    "            known_digits[''.join(sorted(seven))] = 7\n",
    "        if len(pat)==2:\n",
    "            one = pat\n",
    "            known_digits[''.join(sorted(one))] = 1\n",
    "    \n",
    "            \n",
    "    for pat in patterns:\n",
    "        dif = set(eight) - set(pat)\n",
    "        if len(dif) == 1:\n",
    "            if one is not None and dif <= set(one):\n",
    "                six = pat\n",
    "                known_digits[''.join(sorted(six))] = 6\n",
    "            elif four is not None and dif <= set(four):\n",
    "                zero = pat\n",
    "                known_digits[''.join(sorted(zero))] = 0\n",
    "            else:\n",
    "                known_digits[''.join(sorted(pat))] = 9\n",
    "        if len(dif) == 2:\n",
    "            if four is not None and dif <= set(four):\n",
    "                two = pat\n",
    "                known_digits[''.join(sorted(two))] = 2\n",
    "            elif (one is not None and (len(dif & set(one)) > 0)) or (seven is not None and (len(dif & set(seven)) > 0)):\n",
    "                five = pat\n",
    "                known_digits[''.join(sorted(five))] = 5\n",
    "            else:\n",
    "                known_digits[''.join(sorted(pat))] = 3\n",
    "    \n",
    "    return known_digits"
   ]
  },
  {
   "cell_type": "code",
   "execution_count": 121,
   "metadata": {},
   "outputs": [],
   "source": [
    "def decode(outputs, known_digits):\n",
    "    digits = []\n",
    "    for out in outputs:\n",
    "        d = ''.join(sorted(out))\n",
    "        digit = known_digits.get(d, None)\n",
    "        digits.append(digit)\n",
    "    \n",
    "    digit = int(''.join(map(str, digits)))\n",
    "    \n",
    "    return digit"
   ]
  },
  {
   "cell_type": "code",
   "execution_count": 128,
   "metadata": {},
   "outputs": [
    {
     "data": {
      "text/plain": [
       "936117"
      ]
     },
     "execution_count": 128,
     "metadata": {},
     "output_type": "execute_result"
    }
   ],
   "source": [
    "digits = []\n",
    "\n",
    "with open('day_8_input.txt', 'r') as file:\n",
    "    for line in file.readlines():\n",
    "        first, second = line.split(' | ')\n",
    "        patterns = first.split()\n",
    "        outputs = second.split()\n",
    "        \n",
    "        known_digits = find(patterns)\n",
    "        num = decode(outputs, known_digits)\n",
    "        \n",
    "        digits.append(num)\n",
    "\n",
    "sum(digits)"
   ]
  },
  {
   "cell_type": "markdown",
   "metadata": {},
   "source": [
    "### Day 9"
   ]
  },
  {
   "cell_type": "markdown",
   "metadata": {},
   "source": [
    "task 1"
   ]
  },
  {
   "cell_type": "code",
   "execution_count": 147,
   "metadata": {},
   "outputs": [],
   "source": [
    "heighmap = []\n",
    "with open('day_9_input.txt', 'r') as file:\n",
    "    for line in file.readlines():\n",
    "        row = [int(num) for num in line.strip()]\n",
    "        heighmap.append(row)\n",
    "\n",
    "heighmap = np.array(heighmap, dtype=np.int32)"
   ]
  },
  {
   "cell_type": "code",
   "execution_count": 178,
   "metadata": {},
   "outputs": [],
   "source": [
    "array = np.pad(heighmap, pad_width=1, mode='constant', constant_values=9)"
   ]
  },
  {
   "cell_type": "code",
   "execution_count": 179,
   "metadata": {},
   "outputs": [],
   "source": [
    "row_lowes_point = []\n",
    "for row in array[1:-1]:\n",
    "    lowes_points = []\n",
    "    for i in range(len(row)-2):\n",
    "        window = row[i:(i+3)]\n",
    "        is_lowest_point = True if window[0] > window[1] < window[2] else False\n",
    "        lowes_points.append(is_lowest_point)\n",
    "    row_lowes_point.append(lowes_points)\n",
    "\n",
    "row_lowes_point = np.array(row_lowes_point)"
   ]
  },
  {
   "cell_type": "code",
   "execution_count": 180,
   "metadata": {},
   "outputs": [],
   "source": [
    "col_lowes_point = []\n",
    "for col in array.T[1:-1]:\n",
    "    lowes_points = []\n",
    "    for i in range(len(col)-2):\n",
    "        window = col[i:(i+3)]\n",
    "        is_lowest_point = True if window[0] > window[1] < window[2] else False\n",
    "        lowes_points.append(is_lowest_point)\n",
    "    col_lowes_point.append(lowes_points)\n",
    "\n",
    "col_lowes_point = np.array(col_lowes_point).T"
   ]
  },
  {
   "cell_type": "code",
   "execution_count": 181,
   "metadata": {},
   "outputs": [
    {
     "data": {
      "text/plain": [
       "array([[False, False, False, ..., False, False, False],\n",
       "       [False, False,  True, ..., False, False,  True],\n",
       "       [False, False, False, ..., False, False, False],\n",
       "       ...,\n",
       "       [False, False, False, ..., False, False, False],\n",
       "       [False, False, False, ..., False, False, False],\n",
       "       [ True, False, False, ..., False, False, False]])"
      ]
     },
     "execution_count": 181,
     "metadata": {},
     "output_type": "execute_result"
    }
   ],
   "source": [
    "lowes_points_mask = row_lowes_point & col_lowes_point\n",
    "lowes_points_mask"
   ]
  },
  {
   "cell_type": "code",
   "execution_count": 182,
   "metadata": {},
   "outputs": [
    {
     "data": {
      "text/plain": [
       "494"
      ]
     },
     "execution_count": 182,
     "metadata": {},
     "output_type": "execute_result"
    }
   ],
   "source": [
    "len(heighmap[lowes_points_mask]) + sum(heighmap[lowes_points_mask])"
   ]
  },
  {
   "cell_type": "markdown",
   "metadata": {},
   "source": [
    "task 2"
   ]
  },
  {
   "cell_type": "code",
   "execution_count": 199,
   "metadata": {},
   "outputs": [],
   "source": [
    "from collections import deque"
   ]
  },
  {
   "cell_type": "code",
   "execution_count": 234,
   "metadata": {},
   "outputs": [],
   "source": [
    "def get_valid_points(coord, max_coord=99):\n",
    "    y, x = coord\n",
    "    p1 = (y-1, x)\n",
    "    p2 = (y+1, x)\n",
    "    p3 = (y, x-1)\n",
    "    p4 = (y, x+1)\n",
    "    coords = [p1, p2, p3, p4]\n",
    "    coords = [p for p in coords if 0 <= p[0] <= max_coord and 0 <= p[1] <= max_coord]\n",
    "    \n",
    "    return coords"
   ]
  },
  {
   "cell_type": "code",
   "execution_count": 261,
   "metadata": {},
   "outputs": [],
   "source": [
    "def basin_size(point, heighmap):\n",
    "    q = deque()\n",
    "    q.append(point)\n",
    "    basin_size = 1\n",
    "    mark_points = set([point])\n",
    "    \n",
    "    while len(q) > 0:\n",
    "        point = q.popleft()\n",
    "        points = get_valid_points(point)\n",
    "        for p in points:\n",
    "            if p in mark_points:\n",
    "                continue\n",
    "            else:\n",
    "                mark_points.add(p)\n",
    "                heigh = heighmap[p]\n",
    "                if heigh < 9:\n",
    "                    basin_size += 1\n",
    "                    q.append(p)\n",
    "    \n",
    "    return basin_size"
   ]
  },
  {
   "cell_type": "code",
   "execution_count": 263,
   "metadata": {},
   "outputs": [],
   "source": [
    "y, x = np.where(lowes_points_mask)\n",
    "\n",
    "sizes = []\n",
    "for point in zip(list(y), list(x)):\n",
    "    bz = basin_size(point, heighmap)\n",
    "    sizes.append(bz)"
   ]
  },
  {
   "cell_type": "code",
   "execution_count": 265,
   "metadata": {},
   "outputs": [
    {
     "data": {
      "text/plain": [
       "1048128"
      ]
     },
     "execution_count": 265,
     "metadata": {},
     "output_type": "execute_result"
    }
   ],
   "source": [
    "sizes = sorted(sizes, reverse=True)\n",
    "\n",
    "sizes[0] * sizes[1] * sizes[2]"
   ]
  },
  {
   "cell_type": "markdown",
   "metadata": {},
   "source": [
    "### Day 10"
   ]
  },
  {
   "cell_type": "markdown",
   "metadata": {},
   "source": [
    "task 1"
   ]
  },
  {
   "cell_type": "code",
   "execution_count": 272,
   "metadata": {},
   "outputs": [],
   "source": [
    "def get_point(bracket):\n",
    "    if bracket == ')':\n",
    "        return 3\n",
    "    elif bracket == ']':\n",
    "        return 57\n",
    "    elif bracket == '}':\n",
    "        return 1197\n",
    "    elif bracket == '>':\n",
    "        return 25137"
   ]
  },
  {
   "cell_type": "code",
   "execution_count": 273,
   "metadata": {},
   "outputs": [],
   "source": [
    "def match_open_close(open_bracket, close_bracket):\n",
    "    if open_bracket == '(' and close_bracket == ')':\n",
    "        return True\n",
    "    \n",
    "    if open_bracket == '[' and close_bracket == ']':\n",
    "        return True\n",
    "\n",
    "    if open_bracket == '{' and close_bracket == '}':\n",
    "        return True\n",
    "    \n",
    "    if open_bracket == '<' and close_bracket == '>':\n",
    "        return True\n",
    "    \n",
    "    return False"
   ]
  },
  {
   "cell_type": "code",
   "execution_count": 277,
   "metadata": {},
   "outputs": [],
   "source": [
    "def get_point_from_line(line):\n",
    "    brackets = []\n",
    "    \n",
    "    for i, s in enumerate(line):\n",
    "        if s =='(' or s == '[' or s == '{' or s == '<':\n",
    "            brackets.append(s)\n",
    "        else:\n",
    "            if len(brackets) == 0:\n",
    "                raise Exception\n",
    "            else:\n",
    "                open_bracket = brackets.pop()\n",
    "                \n",
    "                is_valid = match_open_close(open_bracket, s)\n",
    "                if is_valid:\n",
    "                    continue\n",
    "                else:\n",
    "                    return get_point(s)\n",
    "    return 0"
   ]
  },
  {
   "cell_type": "code",
   "execution_count": 281,
   "metadata": {},
   "outputs": [
    {
     "data": {
      "text/plain": [
       "374061"
      ]
     },
     "execution_count": 281,
     "metadata": {},
     "output_type": "execute_result"
    }
   ],
   "source": [
    "error_score = 0\n",
    "\n",
    "with open('day_10_input.txt', 'r') as file:\n",
    "    for line in file.readlines():\n",
    "        line = line.strip()\n",
    "        error_score += get_point_from_line(line)\n",
    "        \n",
    "error_score"
   ]
  },
  {
   "cell_type": "markdown",
   "metadata": {},
   "source": [
    "task 2"
   ]
  },
  {
   "cell_type": "code",
   "execution_count": 282,
   "metadata": {},
   "outputs": [],
   "source": [
    "def get_score(bracket):\n",
    "    if bracket == ')':\n",
    "        return 1\n",
    "    elif bracket == ']':\n",
    "        return 2\n",
    "    elif bracket == '}':\n",
    "        return 3\n",
    "    elif bracket == '>':\n",
    "        return 4"
   ]
  },
  {
   "cell_type": "code",
   "execution_count": 283,
   "metadata": {},
   "outputs": [],
   "source": [
    "def reverse_open_bracket(open_bracket):\n",
    "    if open_bracket == '(':\n",
    "        return ')'\n",
    "    \n",
    "    if open_bracket == '[':\n",
    "        return ']'\n",
    "\n",
    "    if open_bracket == '{':\n",
    "        return '}'\n",
    "    \n",
    "    if open_bracket == '<':\n",
    "        return '>'\n",
    "    \n",
    "    return None"
   ]
  },
  {
   "cell_type": "code",
   "execution_count": 285,
   "metadata": {},
   "outputs": [],
   "source": [
    "def get_score_from_line(line):\n",
    "    brackets = []\n",
    "    \n",
    "    for i, s in enumerate(line):\n",
    "        if s =='(' or s == '[' or s == '{' or s == '<':\n",
    "            brackets.append(s)\n",
    "        else:\n",
    "            if len(brackets) == 0:\n",
    "                raise Exception\n",
    "            else:\n",
    "                open_bracket = brackets.pop()\n",
    "                \n",
    "                is_valid = match_open_close(open_bracket, s)\n",
    "                if is_valid:\n",
    "                    continue\n",
    "                else:\n",
    "                    return None\n",
    "    \n",
    "    total_score = 0\n",
    "    while len(brackets) != 0:\n",
    "        open_bracket = brackets.pop()\n",
    "        close_bracket = reverse_open_bracket(open_bracket)\n",
    "        score = get_score(close_bracket)\n",
    "        \n",
    "        total_score = 5*total_score + score\n",
    "    \n",
    "    return total_score"
   ]
  },
  {
   "cell_type": "code",
   "execution_count": 288,
   "metadata": {},
   "outputs": [
    {
     "data": {
      "text/plain": [
       "2116639949.0"
      ]
     },
     "execution_count": 288,
     "metadata": {},
     "output_type": "execute_result"
    }
   ],
   "source": [
    "scores = []\n",
    "\n",
    "with open('day_10_input.txt', 'r') as file:\n",
    "    for line in file.readlines():\n",
    "        line = line.strip()\n",
    "        total_score = get_score_from_line(line)\n",
    "        \n",
    "        if total_score is None:\n",
    "            continue\n",
    "        else:\n",
    "            scores.append(total_score)\n",
    "        \n",
    "np.median(sorted(scores))"
   ]
  },
  {
   "cell_type": "markdown",
   "metadata": {},
   "source": [
    "### Day 11"
   ]
  },
  {
   "cell_type": "markdown",
   "metadata": {},
   "source": [
    "task 1"
   ]
  },
  {
   "cell_type": "code",
   "execution_count": 293,
   "metadata": {},
   "outputs": [],
   "source": [
    "octopuses = []\n",
    "\n",
    "with open('day_11_input.txt', 'r') as file:\n",
    "    for line in file.readlines():\n",
    "        line = list(map(int, line.strip()))\n",
    "        octopuses.append(line)\n",
    "        \n",
    "octopuses = np.array(octopuses)"
   ]
  },
  {
   "cell_type": "code",
   "execution_count": 297,
   "metadata": {},
   "outputs": [
    {
     "data": {
      "text/plain": [
       "array([[ 3,  7,  8,  6,  7,  4,  6,  4,  4,  8],\n",
       "       [ 3,  5, 10,  6,  7,  7,  6,  8, 10,  7],\n",
       "       [ 9,  7, 10,  4,  4,  8,  6, 10,  5,  7],\n",
       "       [10, 10,  3,  4,  8,  9,  4,  4,  9,  4],\n",
       "       [ 3,  3,  8,  3,  6,  8,  5,  3,  5,  9],\n",
       "       [ 9, 10,  5,  3,  9,  8,  4,  5,  6,  6],\n",
       "       [ 4, 10,  7,  7,  7,  4,  9,  9,  6, 10],\n",
       "       [ 8,  3,  6,  3,  9,  5,  9, 10,  9,  6],\n",
       "       [10,  8,  3,  3,  6,  7, 10,  5,  3,  5],\n",
       "       [10,  4,  3,  7,  5,  9,  4,  6,  6,  5]])"
      ]
     },
     "execution_count": 297,
     "metadata": {},
     "output_type": "execute_result"
    }
   ],
   "source": [
    "octopuses + 2"
   ]
  },
  {
   "cell_type": "markdown",
   "metadata": {},
   "source": [
    "task 2"
   ]
  },
  {
   "cell_type": "code",
   "execution_count": 289,
   "metadata": {},
   "outputs": [
    {
     "data": {
      "text/plain": [
       "[1, 2, 3, 4]"
      ]
     },
     "execution_count": 289,
     "metadata": {},
     "output_type": "execute_result"
    }
   ],
   "source": [
    "list(map(int, '1234'))"
   ]
  },
  {
   "cell_type": "markdown",
   "metadata": {},
   "source": [
    "### Day 12"
   ]
  },
  {
   "cell_type": "markdown",
   "metadata": {},
   "source": [
    "task 1"
   ]
  },
  {
   "cell_type": "code",
   "execution_count": 312,
   "metadata": {},
   "outputs": [],
   "source": [
    "cave = {}\n",
    "\n",
    "with open('day_12_input.txt', 'r') as file:\n",
    "    for line in file.readlines():\n",
    "        in_, out_ = line.strip().split('-')\n",
    "        \n",
    "        vertices_list = cave.get(out_, [])\n",
    "        vertices_list.append(in_)\n",
    "        cave[out_] = vertices_list\n",
    "        \n",
    "        vertices_list = cave.get(in_, [])\n",
    "        vertices_list.append(out_)\n",
    "        cave[in_] = vertices_list"
   ]
  },
  {
   "cell_type": "code",
   "execution_count": 313,
   "metadata": {},
   "outputs": [
    {
     "data": {
      "text/plain": [
       "{'hb': ['CI', 'qi', 'YK', 'XP'],\n",
       " 'CI': ['hb', 'end', 'tf', 'lr'],\n",
       " 'lr': ['IK', 'end', 'io', 'XP', 'EU', 'CI'],\n",
       " 'IK': ['lr'],\n",
       " 'tf': ['vr', 'XP', 'YK', 'CI', 'start', 'EU'],\n",
       " 'vr': ['tf', 'start', 'XP', 'EU', 'YK'],\n",
       " 'end': ['lr', 'CI', 'YK'],\n",
       " 'XP': ['tf', 'lr', 'vr', 'hb', 'io'],\n",
       " 'start': ['vr', 'tf', 'EU'],\n",
       " 'io': ['lr', 'XP'],\n",
       " 'qi': ['hb'],\n",
       " 'YK': ['tf', 'end', 'hb', 'vr'],\n",
       " 'EU': ['lr', 'vr', 'start', 'tf']}"
      ]
     },
     "execution_count": 313,
     "metadata": {},
     "output_type": "execute_result"
    }
   ],
   "source": [
    "cave"
   ]
  },
  {
   "cell_type": "code",
   "execution_count": null,
   "metadata": {},
   "outputs": [],
   "source": []
  }
 ],
 "metadata": {
  "kernelspec": {
   "display_name": "python3.9.6",
   "language": "python",
   "name": "python3.9.6"
  },
  "language_info": {
   "codemirror_mode": {
    "name": "ipython",
    "version": 3
   },
   "file_extension": ".py",
   "mimetype": "text/x-python",
   "name": "python",
   "nbconvert_exporter": "python",
   "pygments_lexer": "ipython3",
   "version": "3.9.6"
  }
 },
 "nbformat": 4,
 "nbformat_minor": 5
}
